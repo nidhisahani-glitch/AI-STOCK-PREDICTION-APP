{
  "cells": [
    {
      "cell_type": "code",
      "execution_count": 1,
      "metadata": {
        "colab": {
          "base_uri": "https://localhost:8080/"
        },
        "id": "_5kTaX3_hJFb",
        "outputId": "50710fc1-79dd-4d7a-8306-d7a8c51198d9"
      },
      "outputs": [
        {
          "name": "stderr",
          "output_type": "stream",
          "text": [
            "fatal: destination path 'AI_STOCK_PREDICTION_APP' already exists and is not an empty directory.\n"
          ]
        }
      ],
      "source": [
        "!git clone https://github.com/nidhisahani-glitch/AI_STOCK_PREDICTION_APP.git"
      ]
    },
    {
      "cell_type": "code",
      "execution_count": 3,
      "metadata": {
        "id": "L82szt-sgdtK"
      },
      "outputs": [
        {
          "name": "stdout",
          "output_type": "stream",
          "text": [
            "Requirement already satisfied: pyngrok in c:\\program files\\python38\\lib\\site-packages (7.2.2)\n",
            "Requirement already satisfied: PyYAML>=5.1 in c:\\program files\\python38\\lib\\site-packages (from pyngrok) (6.0.1)\n",
            "Collecting numpy==1.24.4 (from -r requirements (2).txt (line 1))\n",
            "  Using cached numpy-1.24.4-cp38-cp38-win_amd64.whl.metadata (5.6 kB)\n",
            "Collecting pandas==1.5.3 (from -r requirements (2).txt (line 2))\n",
            "  Downloading pandas-1.5.3-cp38-cp38-win_amd64.whl.metadata (12 kB)\n",
            "Collecting yfinance==0.2.18 (from -r requirements (2).txt (line 3))\n",
            "  Downloading yfinance-0.2.18-py2.py3-none-any.whl.metadata (12 kB)\n",
            "Requirement already satisfied: keras==2.11.0 in c:\\program files\\python38\\lib\\site-packages (from -r requirements (2).txt (line 4)) (2.11.0)\n",
            "Collecting tensorflow==2.11.0 (from -r requirements (2).txt (line 5))\n",
            "  Downloading tensorflow-2.11.0-cp38-cp38-win_amd64.whl.metadata (2.5 kB)\n",
            "Collecting streamlit==1.26.0 (from -r requirements (2).txt (line 6))\n",
            "  Downloading streamlit-1.26.0-py2.py3-none-any.whl.metadata (8.0 kB)\n",
            "Collecting matplotlib==3.7.1 (from -r requirements (2).txt (line 7))\n",
            "  Downloading matplotlib-3.7.1-cp38-cp38-win_amd64.whl.metadata (5.8 kB)\n",
            "Collecting scikit-learn==1.2.2 (from -r requirements (2).txt (line 8))\n",
            "  Downloading scikit_learn-1.2.2-cp38-cp38-win_amd64.whl.metadata (11 kB)\n",
            "Requirement already satisfied: python-dateutil>=2.8.1 in c:\\program files\\python38\\lib\\site-packages (from pandas==1.5.3->-r requirements (2).txt (line 2)) (2.8.2)\n",
            "Requirement already satisfied: pytz>=2020.1 in c:\\program files\\python38\\lib\\site-packages (from pandas==1.5.3->-r requirements (2).txt (line 2)) (2023.3.post1)\n",
            "Requirement already satisfied: requests>=2.26 in c:\\program files\\python38\\lib\\site-packages (from yfinance==0.2.18->-r requirements (2).txt (line 3)) (2.32.3)\n",
            "Requirement already satisfied: multitasking>=0.0.7 in c:\\program files\\python38\\lib\\site-packages (from yfinance==0.2.18->-r requirements (2).txt (line 3)) (0.0.11)\n",
            "Requirement already satisfied: lxml>=4.9.1 in c:\\program files\\python38\\lib\\site-packages (from yfinance==0.2.18->-r requirements (2).txt (line 3)) (5.2.2)\n",
            "Collecting appdirs>=1.4.4 (from yfinance==0.2.18->-r requirements (2).txt (line 3))\n",
            "  Downloading appdirs-1.4.4-py2.py3-none-any.whl.metadata (9.0 kB)\n",
            "Requirement already satisfied: frozendict>=2.3.4 in c:\\program files\\python38\\lib\\site-packages (from yfinance==0.2.18->-r requirements (2).txt (line 3)) (2.4.6)\n",
            "Requirement already satisfied: cryptography>=3.3.2 in c:\\program files\\python38\\lib\\site-packages (from yfinance==0.2.18->-r requirements (2).txt (line 3)) (42.0.8)\n",
            "Requirement already satisfied: beautifulsoup4>=4.11.1 in c:\\program files\\python38\\lib\\site-packages (from yfinance==0.2.18->-r requirements (2).txt (line 3)) (4.12.3)\n",
            "Requirement already satisfied: html5lib>=1.1 in c:\\program files\\python38\\lib\\site-packages (from yfinance==0.2.18->-r requirements (2).txt (line 3)) (1.1)\n",
            "Collecting tensorflow-intel==2.11.0 (from tensorflow==2.11.0->-r requirements (2).txt (line 5))\n",
            "  Downloading tensorflow_intel-2.11.0-cp38-cp38-win_amd64.whl.metadata (3.9 kB)\n",
            "Requirement already satisfied: altair<6,>=4.0 in c:\\program files\\python38\\lib\\site-packages (from streamlit==1.26.0->-r requirements (2).txt (line 6)) (4.0.0)\n",
            "Requirement already satisfied: blinker<2,>=1.0.0 in c:\\program files\\python38\\lib\\site-packages (from streamlit==1.26.0->-r requirements (2).txt (line 6)) (1.7.0)\n",
            "Requirement already satisfied: cachetools<6,>=4.0 in c:\\program files\\python38\\lib\\site-packages (from streamlit==1.26.0->-r requirements (2).txt (line 6)) (5.3.2)\n",
            "Requirement already satisfied: click<9,>=7.0 in c:\\program files\\python38\\lib\\site-packages (from streamlit==1.26.0->-r requirements (2).txt (line 6)) (8.1.7)\n",
            "Requirement already satisfied: importlib-metadata<7,>=1.4 in c:\\program files\\python38\\lib\\site-packages (from streamlit==1.26.0->-r requirements (2).txt (line 6)) (6.8.0)\n",
            "Collecting packaging<24,>=16.8 (from streamlit==1.26.0->-r requirements (2).txt (line 6))\n",
            "  Downloading packaging-23.2-py3-none-any.whl.metadata (3.2 kB)\n",
            "Collecting pillow<10,>=7.1.0 (from streamlit==1.26.0->-r requirements (2).txt (line 6))\n",
            "  Downloading Pillow-9.5.0-cp38-cp38-win_amd64.whl.metadata (9.7 kB)\n",
            "Requirement already satisfied: protobuf<5,>=3.20 in c:\\program files\\python38\\lib\\site-packages (from streamlit==1.26.0->-r requirements (2).txt (line 6)) (3.20.0)\n",
            "Requirement already satisfied: pyarrow>=6.0 in c:\\program files\\python38\\lib\\site-packages (from streamlit==1.26.0->-r requirements (2).txt (line 6)) (16.1.0)\n",
            "Requirement already satisfied: pympler<2,>=0.9 in c:\\program files\\python38\\lib\\site-packages (from streamlit==1.26.0->-r requirements (2).txt (line 6)) (1.1)\n",
            "Requirement already satisfied: rich<14,>=10.14.0 in c:\\program files\\python38\\lib\\site-packages (from streamlit==1.26.0->-r requirements (2).txt (line 6)) (13.0.1)\n",
            "Requirement already satisfied: tenacity<9,>=8.1.0 in c:\\program files\\python38\\lib\\site-packages (from streamlit==1.26.0->-r requirements (2).txt (line 6)) (8.2.3)\n",
            "Requirement already satisfied: toml<2,>=0.10.1 in c:\\program files\\python38\\lib\\site-packages (from streamlit==1.26.0->-r requirements (2).txt (line 6)) (0.10.2)\n",
            "Requirement already satisfied: typing-extensions<5,>=4.1.0 in c:\\program files\\python38\\lib\\site-packages (from streamlit==1.26.0->-r requirements (2).txt (line 6)) (4.12.2)\n",
            "Collecting tzlocal<5,>=1.1 (from streamlit==1.26.0->-r requirements (2).txt (line 6))\n",
            "  Downloading tzlocal-4.3.1-py3-none-any.whl.metadata (14 kB)\n",
            "Requirement already satisfied: validators<1,>=0.2 in c:\\program files\\python38\\lib\\site-packages (from streamlit==1.26.0->-r requirements (2).txt (line 6)) (0.22.0)\n",
            "Requirement already satisfied: gitpython!=3.1.19,<4,>=3.0.7 in c:\\program files\\python38\\lib\\site-packages (from streamlit==1.26.0->-r requirements (2).txt (line 6)) (3.1.40)\n",
            "Requirement already satisfied: pydeck<1,>=0.8 in c:\\program files\\python38\\lib\\site-packages (from streamlit==1.26.0->-r requirements (2).txt (line 6)) (0.8.1b0)\n",
            "Requirement already satisfied: tornado<7,>=6.0.3 in c:\\program files\\python38\\lib\\site-packages (from streamlit==1.26.0->-r requirements (2).txt (line 6)) (6.3.3)\n",
            "Requirement already satisfied: watchdog>=2.1.5 in c:\\program files\\python38\\lib\\site-packages (from streamlit==1.26.0->-r requirements (2).txt (line 6)) (3.0.0)\n",
            "Requirement already satisfied: contourpy>=1.0.1 in c:\\program files\\python38\\lib\\site-packages (from matplotlib==3.7.1->-r requirements (2).txt (line 7)) (1.1.1)\n",
            "Requirement already satisfied: cycler>=0.10 in c:\\program files\\python38\\lib\\site-packages (from matplotlib==3.7.1->-r requirements (2).txt (line 7)) (0.12.1)\n",
            "Requirement already satisfied: fonttools>=4.22.0 in c:\\program files\\python38\\lib\\site-packages (from matplotlib==3.7.1->-r requirements (2).txt (line 7)) (4.45.1)\n",
            "Requirement already satisfied: kiwisolver>=1.0.1 in c:\\program files\\python38\\lib\\site-packages (from matplotlib==3.7.1->-r requirements (2).txt (line 7)) (1.4.5)\n",
            "Requirement already satisfied: pyparsing>=2.3.1 in c:\\program files\\python38\\lib\\site-packages (from matplotlib==3.7.1->-r requirements (2).txt (line 7)) (3.1.1)\n",
            "Requirement already satisfied: importlib-resources>=3.2.0 in c:\\program files\\python38\\lib\\site-packages (from matplotlib==3.7.1->-r requirements (2).txt (line 7)) (6.1.1)\n",
            "Requirement already satisfied: scipy>=1.3.2 in c:\\program files\\python38\\lib\\site-packages (from scikit-learn==1.2.2->-r requirements (2).txt (line 8)) (1.10.0)\n",
            "Requirement already satisfied: joblib>=1.1.1 in c:\\program files\\python38\\lib\\site-packages (from scikit-learn==1.2.2->-r requirements (2).txt (line 8)) (1.4.0)\n",
            "Requirement already satisfied: threadpoolctl>=2.0.0 in c:\\program files\\python38\\lib\\site-packages (from scikit-learn==1.2.2->-r requirements (2).txt (line 8)) (3.4.0)\n",
            "Requirement already satisfied: absl-py>=1.0.0 in c:\\program files\\python38\\lib\\site-packages (from tensorflow-intel==2.11.0->tensorflow==2.11.0->-r requirements (2).txt (line 5)) (1.4.0)\n",
            "Requirement already satisfied: astunparse>=1.6.0 in c:\\program files\\python38\\lib\\site-packages (from tensorflow-intel==2.11.0->tensorflow==2.11.0->-r requirements (2).txt (line 5)) (1.6.3)\n",
            "Requirement already satisfied: flatbuffers>=2.0 in c:\\program files\\python38\\lib\\site-packages (from tensorflow-intel==2.11.0->tensorflow==2.11.0->-r requirements (2).txt (line 5)) (24.3.25)\n",
            "Requirement already satisfied: gast<=0.4.0,>=0.2.1 in c:\\program files\\python38\\lib\\site-packages (from tensorflow-intel==2.11.0->tensorflow==2.11.0->-r requirements (2).txt (line 5)) (0.4.0)\n",
            "Requirement already satisfied: google-pasta>=0.1.1 in c:\\program files\\python38\\lib\\site-packages (from tensorflow-intel==2.11.0->tensorflow==2.11.0->-r requirements (2).txt (line 5)) (0.2.0)\n",
            "Requirement already satisfied: h5py>=2.9.0 in c:\\program files\\python38\\lib\\site-packages (from tensorflow-intel==2.11.0->tensorflow==2.11.0->-r requirements (2).txt (line 5)) (3.11.0)\n",
            "Requirement already satisfied: libclang>=13.0.0 in c:\\program files\\python38\\lib\\site-packages (from tensorflow-intel==2.11.0->tensorflow==2.11.0->-r requirements (2).txt (line 5)) (18.1.1)\n",
            "Requirement already satisfied: opt-einsum>=2.3.2 in c:\\program files\\python38\\lib\\site-packages (from tensorflow-intel==2.11.0->tensorflow==2.11.0->-r requirements (2).txt (line 5)) (3.3.0)\n",
            "INFO: pip is looking at multiple versions of tensorflow-intel to determine which version is compatible with other requirements. This could take a while.\n",
            "\n",
            "The conflict is caused by:\n",
            "    streamlit 1.26.0 depends on protobuf<5 and >=3.20\n",
            "    tensorflow-intel 2.11.0 depends on protobuf<3.20 and >=3.9.2\n",
            "\n",
            "To fix this you could try to:\n",
            "1. loosen the range of package versions you've specified\n",
            "2. remove package versions to allow pip to attempt to solve the dependency conflict\n",
            "\n"
          ]
        },
        {
          "name": "stderr",
          "output_type": "stream",
          "text": [
            "ERROR: Cannot install -r requirements (2).txt (line 6) and tensorflow because these package versions have conflicting dependencies.\n",
            "ERROR: ResolutionImpossible: for help visit https://pip.pypa.io/en/latest/topics/dependency-resolution/#dealing-with-dependency-conflicts\n"
          ]
        }
      ],
      "source": [
        "# Step 1: Install the necessary packages\n",
        "!pip install pyngrok\n",
        "\n",
        "!pip install -r \"requirements (2).txt\""
      ]
    },
    {
      "cell_type": "code",
      "execution_count": null,
      "metadata": {
        "id": "nzEvJsGdgilk"
      },
      "outputs": [],
      "source": [
        "import os\n",
        "from threading import Thread\n",
        "from pyngrok import ngrok"
      ]
    },
    {
      "cell_type": "code",
      "execution_count": null,
      "metadata": {
        "id": "kNBFFM2ygj6O"
      },
      "outputs": [],
      "source": [
        "# Add your ngrok token here\n",
        "ngrok.set_auth_token('your_ngrok_auth_token')"
      ]
    },
    {
      "cell_type": "code",
      "execution_count": null,
      "metadata": {
        "id": "nxP9AZaIgoMb"
      },
      "outputs": [],
      "source": [
        "def run_streamlit():\n",
        "    # Change the port if 8501 is already in use or if you prefer another port\n",
        "    os.system('streamlit run /content/multiple-disease-prediction-streamlit-app/app.py --server.port 8501')"
      ]
    },
    {
      "cell_type": "code",
      "execution_count": null,
      "metadata": {
        "id": "xr3-st1cgoKX"
      },
      "outputs": [],
      "source": [
        "# Start a thread to run the Streamlit app\n",
        "thread = Thread(target=run_streamlit)\n",
        "thread.start()"
      ]
    },
    {
      "cell_type": "code",
      "execution_count": null,
      "metadata": {
        "colab": {
          "base_uri": "https://localhost:8080/"
        },
        "id": "T2mh9OOYgoH9",
        "outputId": "c2697529-593c-4733-ca83-1d0bcc08cae2"
      },
      "outputs": [
        {
          "name": "stdout",
          "output_type": "stream",
          "text": [
            "Your Streamlit app is live at: NgrokTunnel: \"https://1ffb-35-231-24-161.ngrok-free.app\" -> \"http://localhost:8501\"\n"
          ]
        }
      ],
      "source": [
        "# Open a tunnel to the streamlit port 8501\n",
        "public_url = ngrok.connect(addr='8501', proto='http', bind_tls=True)\n",
        "print('Your Streamlit app is live at:', public_url)"
      ]
    },
    {
      "cell_type": "code",
      "execution_count": null,
      "metadata": {
        "id": "kzspcoX7hiiO"
      },
      "outputs": [],
      "source": [
        "ngrok.kill()"
      ]
    },
    {
      "cell_type": "code",
      "execution_count": null,
      "metadata": {
        "id": "-JsV4KFYjqS7"
      },
      "outputs": [],
      "source": []
    },
    {
      "cell_type": "code",
      "execution_count": null,
      "metadata": {
        "id": "-OxASXYDjmF0"
      },
      "outputs": [],
      "source": []
    }
  ],
  "metadata": {
    "colab": {
      "provenance": []
    },
    "kernelspec": {
      "display_name": "Python 3",
      "name": "python3"
    },
    "language_info": {
      "codemirror_mode": {
        "name": "ipython",
        "version": 3
      },
      "file_extension": ".py",
      "mimetype": "text/x-python",
      "name": "python",
      "nbconvert_exporter": "python",
      "pygments_lexer": "ipython3",
      "version": "3.8.2"
    }
  },
  "nbformat": 4,
  "nbformat_minor": 0
}
